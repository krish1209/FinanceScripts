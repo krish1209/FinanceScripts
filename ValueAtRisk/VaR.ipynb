{
 "cells": [
  {
   "cell_type": "markdown",
   "id": "b8e70816",
   "metadata": {},
   "source": [
    "# VaR lets you say something like this:\n",
    "\n",
    "\"With 95% confidence, my portfolio’s loss will not exceed $750 in one day\""
   ]
  },
  {
   "cell_type": "code",
   "execution_count": 15,
   "id": "d23b88e8",
   "metadata": {},
   "outputs": [
    {
     "name": "stdout",
     "output_type": "stream",
     "text": [
      "Requirement already satisfied: norm in c:\\users\\krish\\miniconda3\\lib\\site-packages (1.6.0)\n",
      "Note: you may need to restart the kernel to use updated packages.\n"
     ]
    }
   ],
   "source": [
    "pip install norm"
   ]
  },
  {
   "cell_type": "code",
   "execution_count": 16,
   "id": "e99a608a",
   "metadata": {},
   "outputs": [],
   "source": [
    "%matplotlib inline\n",
    "import matplotlib.pyplot as plt\n",
    "import numpy as np\n",
    "import pandas as pd\n",
    "import norm\n",
    "import yfinance as yf\n",
    "from scipy import stats"
   ]
  },
  {
   "cell_type": "markdown",
   "id": "3ac9df38",
   "metadata": {},
   "source": [
    "We'll simulate a portfolio of stocks. To do this, we need to define the symbols, the weights, and the investment amount.\n",
    "\n",
    "We also define the confidence level which we’ll use later."
   ]
  },
  {
   "cell_type": "code",
   "execution_count": 17,
   "id": "f454f7a0",
   "metadata": {},
   "outputs": [],
   "source": [
    "# create your portfolio of stocks\n",
    "tickers = [\"AAPL\", \"Meta\", \"C\", \"DIS\"]\n",
    "\n",
    "# pick the weights of each stock (must add to 1)\n",
    "weights = np.array([0.25, 0.3, 0.15, 0.3])\n",
    "\n",
    "# the size of the portfolio\n",
    "portfolio_value = 1_000\n",
    "\n",
    "# the confidence interval (95%)\n",
    "confidence = 0.05"
   ]
  },
  {
   "cell_type": "code",
   "execution_count": 18,
   "id": "2e1c2d6c",
   "metadata": {},
   "outputs": [
    {
     "name": "stderr",
     "output_type": "stream",
     "text": [
      "[*********************100%***********************]  4 of 4 completed\n"
     ]
    }
   ],
   "source": [
    "data = yf.download(tickers, start = \"2018-01-01\", end = \"2021-12-31\")[\"Close\"]\n"
   ]
  },
  {
   "cell_type": "markdown",
   "id": "d28fe944",
   "metadata": {},
   "source": [
    "# Compute portfolio statistics"
   ]
  },
  {
   "cell_type": "code",
   "execution_count": 19,
   "id": "72e0774a",
   "metadata": {},
   "outputs": [],
   "source": [
    "# compute daily returns of each stock\n",
    "returns = data.pct_change()\n",
    "\n",
    "# compute the daily mean returns of each stock\n",
    "mean_returns = returns.mean()\n",
    "\n",
    "# compute portfolio mean return\n",
    "port_mean = mean_returns.dot(weights)\n",
    "\n",
    "# mean of investment returns\n",
    "investment_mean = (1 + port_mean) * portfolio_value\n",
    "\n",
    "# compute the portfolio covariance matrix\n",
    "cov_matrix = returns.cov()\n",
    "\n",
    "# compute portfolio standard deviation\n",
    "port_stdev = np.sqrt(weights.T.dot(cov_matrix).dot(weights))\n",
    "\n",
    "# standard deviation of investment returns\n",
    "investment_stdev = portfolio_value * port_stdev"
   ]
  },
  {
   "cell_type": "markdown",
   "id": "32872517",
   "metadata": {},
   "source": [
    "First, we get the daily returns of the stocks in the portfolio. From there we get the mean return for all the data. We apply the weights to those returns and multiply them by the portfolio value to get the portfolio mean return.\n",
    "\n",
    "Then we compute the covariance between the returns, take the square root of the covariance-adjusted weights of the stocks in the portfolio, and compute the portfolio standard deviation.\n",
    "\n",
    "The portfolio mean and standard deviation are used in the next step."
   ]
  },
  {
   "cell_type": "markdown",
   "id": "35af8be5",
   "metadata": {},
   "source": [
    "# VaR\n",
    "To find the VaR of this portfolio, we start by finding the point on the density plot based on the confidence level, mean, and standard deviation."
   ]
  },
  {
   "cell_type": "code",
   "execution_count": 20,
   "id": "5f8cc5d4",
   "metadata": {},
   "outputs": [],
   "source": [
    "# ppf takes a percentage and returns a standard deviation \n",
    "# multiplier for what value that percentage occurs at.\n",
    "# It is equivalent to a one-tail test on the density plot.\n",
    "percent_point = stats.norm.ppf(confidence, investment_mean, investment_stdev)"
   ]
  },
  {
   "cell_type": "markdown",
   "id": "9824a658",
   "metadata": {},
   "source": [
    "VaR is the portfolio value less this amount."
   ]
  },
  {
   "cell_type": "code",
   "execution_count": 21,
   "id": "715df38e",
   "metadata": {},
   "outputs": [
    {
     "data": {
      "text/plain": [
       "'Portfolio VaR: 28.257799417772162'"
      ]
     },
     "execution_count": 21,
     "metadata": {},
     "output_type": "execute_result"
    }
   ],
   "source": [
    "# calculate the VaR at the confidence interval\n",
    "value_at_risk = portfolio_value - percent_point\n",
    "\n",
    "# print it out\n",
    "f\"Portfolio VaR: {value_at_risk}\""
   ]
  },
  {
   "cell_type": "markdown",
   "id": "4bcc979a",
   "metadata": {},
   "source": [
    "# Bonus: Scaling VaR to different time frames\n",
    "What about over one week? Or one month?\n",
    "\n",
    "Stock returns increase with the square root of time. Therefore to scale the value at risk, we multiply it by the square root of time. This sounds scary but it’s simple in Python.\n",
    "\n",
    "Multiply the one-day VaR by the square root of one (day) through the square root of 30 (days)."
   ]
  },
  {
   "cell_type": "code",
   "execution_count": 22,
   "id": "23834edb",
   "metadata": {},
   "outputs": [],
   "source": [
    "value_at_risks = value_at_risk * np.sqrt(range(1, 31))"
   ]
  },
  {
   "cell_type": "code",
   "execution_count": 23,
   "id": "f36d4fa9",
   "metadata": {},
   "outputs": [
    {
     "data": {
      "text/plain": [
       "[<matplotlib.lines.Line2D at 0x2b913577af0>]"
      ]
     },
     "execution_count": 23,
     "metadata": {},
     "output_type": "execute_result"
    },
    {
     "data": {
      "image/png": "[encoded data removed]",
      "text/plain": [
       "<Figure size 640x480 with 1 Axes>"
      ]
     },
     "metadata": {},
     "output_type": "display_data"
    }
   ],
   "source": [
    "# build plot of VaR over time\n",
    "plt.xlabel(\"Day\")\n",
    "plt.ylabel(\"Max loss\")\n",
    "plt.title(\"Portfolio VaR\")\n",
    "plt.plot(value_at_risks, \"r\")"
   ]
  },
  {
   "cell_type": "code",
   "execution_count": null,
   "id": "72bde072",
   "metadata": {},
   "outputs": [],
   "source": []
  }
 ],
 "metadata": {
  "kernelspec": {
   "display_name": "base",
   "language": "python",
   "name": "python3"
  },
  "language_info": {
   "codemirror_mode": {
    "name": "ipython",
    "version": 3
   },
   "file_extension": ".py",
   "mimetype": "text/x-python",
   "name": "python",
   "nbconvert_exporter": "python",
   "pygments_lexer": "ipython3",
   "version": "3.9.12"
  }
 },
 "nbformat": 4,
 "nbformat_minor": 5
}
