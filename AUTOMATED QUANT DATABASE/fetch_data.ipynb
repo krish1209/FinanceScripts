{
 "cells": [
  {
   "cell_type": "code",
   "execution_count": 3,
   "id": "bafec87d",
   "metadata": {},
   "outputs": [
    {
     "name": "stdout",
     "output_type": "stream",
     "text": [
      "          ('date', '')  ('close', 'SPY')  ('high', 'SPY')  ('low', 'SPY')  \\\n",
      "0  2020-01-02 00:00:00        300.291504       300.310009      298.128543   \n",
      "1  2020-01-03 00:00:00        298.017670       299.154623      296.806782   \n",
      "2  2020-01-06 00:00:00        299.154724       299.237912      296.122849   \n",
      "3  2020-01-07 00:00:00        298.313538       299.062254      297.860590   \n",
      "4  2020-01-08 00:00:00        299.903290       301.132654      298.257959   \n",
      "\n",
      "   ('open', 'SPY')  ('volume', 'SPY') ('symbol', '')  \n",
      "0       299.062139           59151200            SPY  \n",
      "1       296.862240           77709700            SPY  \n",
      "2       296.243018           55653900            SPY  \n",
      "3       298.581577           40496400            SPY  \n",
      "4       298.507522           68296000            SPY  \n",
      "   cid               name       type  notnull dflt_value  pk\n",
      "0    0       ('date', '')  TIMESTAMP        0       None   0\n",
      "1    1   ('close', 'SPY')       REAL        0       None   0\n",
      "2    2    ('high', 'SPY')       REAL        0       None   0\n",
      "3    3     ('low', 'SPY')       REAL        0       None   0\n",
      "4    4    ('open', 'SPY')       REAL        0       None   0\n",
      "5    5  ('volume', 'SPY')    INTEGER        0       None   0\n",
      "6    6     ('symbol', '')       TEXT        0       None   0\n"
     ]
    }
   ],
   "source": [
    "import sqlite3\n",
    "import pandas as pd\n",
    "\n",
    "# Connect to the database\n",
    "con = sqlite3.connect(\"market_data.sqlite\")\n",
    "\n",
    "# Preview first few rows of the table\n",
    "df = pd.read_sql_query(\"SELECT * FROM stock_data LIMIT 10\", con)\n",
    "print(df.head())\n",
    "\n",
    "# Optional: See available columns\n",
    "columns_info = pd.read_sql_query(\"PRAGMA table_info(stock_data);\", con)\n",
    "print(columns_info)\n"
   ]
  },
  {
   "cell_type": "code",
   "execution_count": null,
   "id": "19329af1",
   "metadata": {},
   "outputs": [],
   "source": []
  }
 ],
 "metadata": {
  "kernelspec": {
   "display_name": "base",
   "language": "python",
   "name": "python3"
  },
  "language_info": {
   "codemirror_mode": {
    "name": "ipython",
    "version": 3
   },
   "file_extension": ".py",
   "mimetype": "text/x-python",
   "name": "python",
   "nbconvert_exporter": "python",
   "pygments_lexer": "ipython3",
   "version": "3.9.12"
  }
 },
 "nbformat": 4,
 "nbformat_minor": 5
}
