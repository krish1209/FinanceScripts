{
 "cells": [
  {
   "cell_type": "markdown",
   "id": "3bf0fcc1",
   "metadata": {},
   "source": [
    "The hardest part of options trading is determining if they are cheap or expensive. Whether you buy or sell an option, you’re exposed to the volatility of the underlying. That’s why it’s important to compare volatility to its recent levels.\n",
    "\n",
    "Volatility cones can help you do this."
   ]
  },
  {
   "cell_type": "code",
   "execution_count": 6,
   "id": "721c3639",
   "metadata": {},
   "outputs": [],
   "source": [
    "%matplotlib inline\n",
    "\n",
    "import math\n",
    "import yfinance as yf\n",
    "import numpy as np\n",
    "import matplotlib.pyplot as plt"
   ]
  },
  {
   "cell_type": "markdown",
   "id": "30ea392a",
   "metadata": {},
   "source": [
    "Next, we’ll setup some variables we’ll use later. These are all Python lists. windows defines the number of days I want to use to compute volatility. quantiles defines the percentage of the top and bottom 25% of values. The last few lists are where we accumulate data to plot."
   ]
  },
  {
   "cell_type": "code",
   "execution_count": 7,
   "id": "cc5ab379",
   "metadata": {},
   "outputs": [],
   "source": [
    "windows = [30, 60, 90, 120]\n",
    "quantiles = [0.25, 0.75]\n",
    "\n",
    "min_ = []\n",
    "max_ = []\n",
    "median = []\n",
    "top_q = []\n",
    "bottom_q = []\n",
    "realized = []"
   ]
  },
  {
   "cell_type": "code",
   "execution_count": 8,
   "id": "be6917c4",
   "metadata": {},
   "outputs": [
    {
     "name": "stderr",
     "output_type": "stream",
     "text": [
      "[*********************100%***********************]  1 of 1 completed\n"
     ]
    }
   ],
   "source": [
    "data = yf.download(\"JPM\", start=\"2020-01-01\", end=\"2020-12-31\")"
   ]
  },
  {
   "cell_type": "markdown",
   "id": "5e1cb014",
   "metadata": {},
   "source": [
    "## Realized Volatility\n",
    "Realized volatility is a measurement of how much the price or returns of stock vary. It’s used to optimize portfolios, detect regime changes, and price derivatives. The most common way to measure realized volatility is the standard deviation."
   ]
  },
  {
   "cell_type": "code",
   "execution_count": 9,
   "id": "dea818fb",
   "metadata": {},
   "outputs": [],
   "source": [
    "def realized_vol(price_data, window=30):\n",
    "    \n",
    "    log_return = (price_data[\"Close\"] / price_data[\"Close\"].shift(1)).apply(np.log)\n",
    "\n",
    "    return log_return.rolling(window=window, center=False).std() * math.sqrt(252)"
   ]
  },
  {
   "cell_type": "code",
   "execution_count": 11,
   "id": "ddcec55e",
   "metadata": {},
   "outputs": [
    {
     "name": "stdout",
     "output_type": "stream",
     "text": [
      "windows shape: (4,)\n",
      "min_ shape: (1, 1)\n",
      "max_ shape: (1, 1)\n",
      "median shape: (1, 1)\n"
     ]
    }
   ],
   "source": [
    "print(\"windows shape:\", np.shape(windows))\n",
    "print(\"min_ shape:\", np.shape(min_))\n",
    "print(\"max_ shape:\", np.shape(max_))\n",
    "print(\"median shape:\", np.shape(median))"
   ]
  },
  {
   "cell_type": "markdown",
   "id": "7da33f55",
   "metadata": {},
   "source": [
    "The next step is to loop through each of the windows and compute realized volatility over each time frame. estimator is a pandas DataFrame. That’s why it’s so easy so compute the min, max, median, and quantiles. Magic."
   ]
  },
  {
   "cell_type": "code",
   "execution_count": 13,
   "id": "0dffea7d",
   "metadata": {},
   "outputs": [],
   "source": [
    "for window in windows:\n",
    "    \n",
    "    # get a dataframe with realized volatility\n",
    "    estimator = realized_vol(window=window, price_data=data)\n",
    "    \n",
    "    # append the summary stats to a list\n",
    "    min_.append(estimator.min())\n",
    "    max_.append(estimator.max())\n",
    "    median.append(estimator.median())\n",
    "    top_q.append(estimator.quantile(quantiles[1]))\n",
    "    bottom_q.append(estimator.quantile(quantiles[0]))\n",
    "    realized.append(estimator.iloc[-1])"
   ]
  },
  {
   "cell_type": "code",
   "execution_count": 19,
   "id": "b0b76fbb",
   "metadata": {},
   "outputs": [
    {
     "data": {
      "text/plain": [
       "<matplotlib.legend.Legend at 0x262a2da75e0>"
      ]
     },
     "execution_count": 19,
     "metadata": {},
     "output_type": "execute_result"
    },
    {
     "data": {
      "image/png": "[encoded data removed]",
      "text/plain": [
       "<Figure size 640x480 with 1 Axes>"
      ]
     },
     "metadata": {},
     "output_type": "display_data"
    }
   ],
   "source": [
    "# Assuming min_, max_, etc. are numpy arrays or lists\n",
    "plt.plot(windows, min_[:4], \"-o\", linewidth=1, label=\"Min\")\n",
    "plt.plot(windows, max_[:4], \"-o\", linewidth=1, label=\"Max\")\n",
    "plt.plot(windows, median[:4], \"-o\", linewidth=1, label=\"Median\")\n",
    "plt.plot(windows, top_q[:4], \"-o\", linewidth=1, label=f\"{quantiles[1] * 100:.0f} Prctl\")\n",
    "plt.plot(windows, bottom_q[:4], \"-o\", linewidth=1, label=f\"{quantiles[0] * 100:.0f} Prctl\")\n",
    "plt.plot(windows, realized[:4], \"ro-.\", linewidth=1, label=\"Realized\")\n",
    "\n",
    "plt.xticks(windows)\n",
    "plt.legend(loc=\"upper center\", bbox_to_anchor=(0.5, -0.1), ncol=3)"
   ]
  },
  {
   "cell_type": "markdown",
   "id": "00ae0c58",
   "metadata": {},
   "source": [
    "The y-axis is the realized volatility over each time frame. The x-axis is time frame we use to compute the realized volatility.\n",
    "\n",
    "There are three conclusions you can draw from this chart:\n",
    "\n",
    "1. Over the 30-day window, there is a spike in realized volatility. Realized volatility spikes usually correspond to a drop in the stock price. This should tell us to explore the stock price to see what happened.\n",
    "2. Realized volatility (the dashed line) is close to the lowest it’s been across all time frames. This is a data point to support a case to get long volatility (i.e. options are cheap).\n",
    "3. Realized volatility is mean reverting. You can see this in the cone shape of the chart. This is a data point to support a case to get long volatility."
   ]
  }
 ],
 "metadata": {
  "kernelspec": {
   "display_name": "base",
   "language": "python",
   "name": "python3"
  },
  "language_info": {
   "codemirror_mode": {
    "name": "ipython",
    "version": 3
   },
   "file_extension": ".py",
   "mimetype": "text/x-python",
   "name": "python",
   "nbconvert_exporter": "python",
   "pygments_lexer": "ipython3",
   "version": "3.9.12"
  }
 },
 "nbformat": 4,
 "nbformat_minor": 5
}
